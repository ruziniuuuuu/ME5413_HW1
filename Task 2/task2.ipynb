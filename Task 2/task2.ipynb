{
 "cells": [
  {
   "cell_type": "markdown",
   "metadata": {},
   "source": [
    "LOAD DATA "
   ]
  },
  {
   "cell_type": "code",
   "execution_count": 14,
   "metadata": {},
   "outputs": [],
   "source": [
    "import numpy as np\n",
    "import matplotlib.pyplot as plt\n",
    "data_path ='<PATH TO NPZ>/sample_1a2bc3012c9defca.npz'\n"
   ]
  },
  {
   "cell_type": "markdown",
   "metadata": {},
   "source": []
  },
  {
   "cell_type": "code",
   "execution_count": 15,
   "metadata": {},
   "outputs": [],
   "source": [
    "info = np.load(data_path,allow_pickle=True)\n",
    "all_agent_trajs        = info['all_agent']    \n",
    "all_agent_trajs.shape  #[24 agents, 91 timesteps the interval between each timestep is 0.1 second,\\\n",
    "    #10 denotes [center_x, center_y, center_z, boundingbox_x, boundingbox_y, boundingbox_z, heading, vel_x, vel_y, valid] ]\n",
    "#the valid flag is either 0 or 1. 1 means the valid, 0 means invalid\n",
    "obj_types              = info['object_type']\n",
    "lane_polylines         = info['lane']           #  list of [n,7] array [x,y,z,ori_x,ori_y,ori_z,type]\n",
    "road_polylines         = info['road_polylines'] #  list of [n,7] array [x,y,z,ori_x,ori_y,ori_z,type]\n",
    "crosswalk_polylines    = info['crosswalk']      #  list of [n,7] array [x,y,z,ori_x,ori_y,ori_z,type]\n",
    "speed_bump_polylines   = info['speed_bump']     #  list of [n,7] array [x,y,z,ori_x,ori_y,ori_z,type]\n",
    "stop_signs_polylines   = info['stop_sign']      #  list of [n,7] array [x,y,z,ori_x,ori_y,ori_z,type]\n",
    "drive_way_polylines    = info['drive_way']      #  list of [n,7] array [x,y,z,ori_x,ori_y,ori_z,type]\n"
   ]
  },
  {
   "cell_type": "markdown",
   "metadata": {},
   "source": [
    "We select the 11th timestep as the current timestep "
   ]
  },
  {
   "cell_type": "code",
   "execution_count": 16,
   "metadata": {},
   "outputs": [
    {
     "data": {
      "text/plain": [
       "(24, 10)"
      ]
     },
     "execution_count": 16,
     "metadata": {},
     "output_type": "execute_result"
    }
   ],
   "source": [
    "all_agent_current = all_agent_trajs[:,10]\n",
    "all_agent_current.shape"
   ]
  },
  {
   "cell_type": "code",
   "execution_count": 17,
   "metadata": {},
   "outputs": [
    {
     "data": {
      "text/plain": [
       "(24, 10, 10)"
      ]
     },
     "execution_count": 17,
     "metadata": {},
     "output_type": "execute_result"
    }
   ],
   "source": [
    "#ground truth for the future 1s,2s,3s can be easily derived by :\n",
    "predict_horizon = 10 #20,30\n",
    "all_gt_future=all_agent_trajs[:,11:11+predict_horizon]\n",
    "all_gt_future.shape"
   ]
  },
  {
   "cell_type": "markdown",
   "metadata": {},
   "source": [
    "Index of target agnet to preict"
   ]
  },
  {
   "cell_type": "code",
   "execution_count": 18,
   "metadata": {},
   "outputs": [
    {
     "data": {
      "text/plain": [
       "(8, 91, 10)"
      ]
     },
     "execution_count": 18,
     "metadata": {},
     "output_type": "execute_result"
    }
   ],
   "source": [
    "tracks        = info['predict_list']  \n",
    "tracks\n",
    "agents_to_predict = all_agent_trajs[tracks]\n",
    "agents_to_predict.shape"
   ]
  },
  {
   "cell_type": "markdown",
   "metadata": {},
   "source": [
    "The homework should be done on these 8 agents."
   ]
  },
  {
   "cell_type": "markdown",
   "metadata": {},
   "source": [
    "Q1.Using constant velocity model to predict the future (1s,2s,3s) trajectories of the target agent and calculate the ADE and FDE.  "
   ]
  },
  {
   "cell_type": "code",
   "execution_count": null,
   "metadata": {},
   "outputs": [],
   "source": []
  },
  {
   "cell_type": "markdown",
   "metadata": {},
   "source": [
    "Q2.Using constant acceleration model to predict the future (1s,2s,3s) trajectories of the target agent and calculate the ADE and FDE. "
   ]
  },
  {
   "cell_type": "code",
   "execution_count": null,
   "metadata": {},
   "outputs": [],
   "source": []
  },
  {
   "cell_type": "markdown",
   "metadata": {},
   "source": [
    "Using Constant Turn Rate and Velocity(CTRV) model to predict the future (1s,2s,3s) trajectories of the target agent and calculate the ADE and FDE. "
   ]
  },
  {
   "cell_type": "code",
   "execution_count": null,
   "metadata": {},
   "outputs": [],
   "source": []
  },
  {
   "cell_type": "markdown",
   "metadata": {},
   "source": [
    "Briefly discuss the observations from your results. "
   ]
  },
  {
   "cell_type": "markdown",
   "metadata": {},
   "source": [
    "If you want to visualize the scenario here are some simple demo codes for you.\n",
    "\n",
    "    'TYPE_FREEWAY': 1,\n",
    "    'TYPE_SURFACE_STREET': 2,\n",
    "    'TYPE_BIKE_LANE': 3,\n",
    "\n",
    "    # for roadline\n",
    "    'TYPE_UNKNOWN': -1,\n",
    "    'TYPE_BROKEN_SINGLE_WHITE': 6,\n",
    "    'TYPE_SOLID_SINGLE_WHITE': 7,\n",
    "    'TYPE_SOLID_DOUBLE_WHITE': 8,\n",
    "    'TYPE_BROKEN_SINGLE_YELLOW': 9,\n",
    "    'TYPE_BROKEN_DOUBLE_YELLOW': 10,\n",
    "    'TYPE_SOLID_SINGLE_YELLOW': 11,\n",
    "    'TYPE_SOLID_DOUBLE_YELLOW': 12,\n",
    "    'TYPE_PASSING_DOUBLE_YELLOW': 13,\n",
    "\n",
    "    # for roadedge\n",
    "    'TYPE_ROAD_EDGE_BOUNDARY': 15,\n",
    "    'TYPE_ROAD_EDGE_MEDIAN': 16,\n",
    "\n",
    "    # for stopsign\n",
    "    'TYPE_STOP_SIGN': 17,\n",
    "\n",
    "    # for crosswalk\n",
    "    'TYPE_CROSSWALK': 18,\n",
    "\n",
    "    # for speed bump\n",
    "    'TYPE_SPEED_BUMP': 19,\n",
    "    \n",
    "    # for driveway\n",
    "    'TYPE_DRIVEWAY': 20,"
   ]
  },
  {
   "cell_type": "code",
   "execution_count": 21,
   "metadata": {},
   "outputs": [],
   "source": [
    "sdc_current_state = all_agent_trajs[tracks[0]][11]\n",
    "ax = plt.gca()\n",
    "fig = plt.gcf()\n",
    "fig.set_facecolor('xkcd:grey') \n",
    "ax.set_facecolor('xkcd:grey')\n",
    "for polyline in road_polylines:\n",
    "    map_type = polyline[0,6]\n",
    "    if map_type == 6:\n",
    "        plt.plot(polyline[:, 0], polyline[:, 1], 'w', linestyle='dashed', linewidth=1)\n",
    "    elif map_type == 7:\n",
    "        plt.plot(polyline[:, 0], polyline[:, 1], 'w', linestyle='solid', linewidth=1)\n",
    "    elif map_type == 8:\n",
    "        plt.plot(polyline[:, 0], polyline[:, 1], 'w', linestyle='solid', linewidth=1)\n",
    "    elif map_type == 9:\n",
    "        plt.plot(polyline[:, 0], polyline[:, 1], 'xkcd:yellow', linestyle='dashed', linewidth=1)\n",
    "    elif map_type == 10:\n",
    "        plt.plot(polyline[:, 0], polyline[:, 1], 'xkcd:yellow', linestyle='dashed', linewidth=1)\n",
    "    elif map_type == 11:\n",
    "        plt.plot(polyline[:, 0], polyline[:, 1], 'xkcd:yellow', linestyle='solid', linewidth=1)\n",
    "    elif map_type == 12:\n",
    "        plt.plot(polyline[:, 0], polyline[:, 1], 'xkcd:yellow', linestyle='solid', linewidth=1)\n",
    "    elif map_type == 13:\n",
    "        plt.plot(polyline[:, 0], polyline[:, 1], 'xkcd:yellow', linestyle='dotted', linewidth=1)\n",
    "    elif map_type == 15:\n",
    "        plt.plot(polyline[:, 0], polyline[:, 1], 'k', linewidth=1)\n",
    "    elif map_type == 16:\n",
    "        plt.plot(polyline[:, 0], polyline[:, 1], 'k', linewidth=1)\n",
    "ax.axis([-70+ sdc_current_state[0], 70+ sdc_current_state[0], -70+ sdc_current_state[1], 70 + sdc_current_state[1]])\n",
    "\n",
    "filename = './viz.png' \n",
    "plt.savefig(filename)       \n",
    "plt.close()"
   ]
  }
 ],
 "metadata": {
  "kernelspec": {
   "display_name": "DgxEnv",
   "language": "python",
   "name": "python3"
  },
  "language_info": {
   "codemirror_mode": {
    "name": "ipython",
    "version": 3
   },
   "file_extension": ".py",
   "mimetype": "text/x-python",
   "name": "python",
   "nbconvert_exporter": "python",
   "pygments_lexer": "ipython3",
   "version": "3.8.16"
  }
 },
 "nbformat": 4,
 "nbformat_minor": 2
}
