{
 "cells": [
  {
   "cell_type": "markdown",
   "metadata": {},
   "source": [
    "## ME5413: Autonomous Mobile Robot  \n",
    "\n",
    "### Homework 1: Perception  \n",
    "Due date: 22 February 2024 (Thurs) - 2359 \n"
   ]
  },
  {
   "cell_type": "markdown",
   "metadata": {},
   "source": [
    "### Task 1.1 Single-Object Tracking \n",
    "\n",
    "#### Preparation\n",
    "\n",
    "**Import the necessary packages**"
   ]
  },
  {
   "cell_type": "code",
   "execution_count": 576,
   "metadata": {},
   "outputs": [],
   "source": [
    "import cv2\n",
    "import numpy as np\n",
    "import glob\n",
    "from utils.load import *\n",
    "from utils.save_detections import save_detections\n",
    "from utils.evaluate import evaluate_performance"
   ]
  },
  {
   "cell_type": "markdown",
   "metadata": {},
   "source": [
    "**Load (and Test) the original frames**\n",
    "\n",
    "The original frames are stored in the folder `./data`. I define the variable `images` to store the original frames, and then use `cv2.imshow()` to display the original videos."
   ]
  },
  {
   "cell_type": "code",
   "execution_count": 577,
   "metadata": {},
   "outputs": [],
   "source": [
    "# load the frames\n",
    "seq_folder_path = 'data/seq_1'\n",
    "image_files = glob.glob(seq_folder_path + '/img' + '/*.jpg')\n",
    "image_files.sort()\n",
    "\n",
    "images = []\n",
    "for image_files in image_files:\n",
    "    image = cv2.imread(image_files)\n",
    "    images.append(image)\n",
    "\n",
    "# # test the display\n",
    "# for img in images:\n",
    "#     cv2.imshow('image', img)\n",
    "#     if cv2.waitKey(50) & 0xFF == ord('q'):\n",
    "#         break\n",
    "\n",
    "# cv2.destroyAllWindows()"
   ]
  },
  {
   "cell_type": "markdown",
   "metadata": {},
   "source": [
    "#### Using Template Matching\n",
    "1. Create a template from the first frame.\n",
    "2. Use the template to find the object in the subsequent frames. It should be noticed that there are vavious built-in methods for template matching in OpenCV:\n",
    "    + TM_SQDIFF\n",
    "    + **TM_SQDIFF_NORMED**\n",
    "    + TM_CCORR\n",
    "    + TM_CCORR_NORMED\n",
    "    + **TM_CCOEFF**\n",
    "    + TM_CCOEFF_NORMED\n",
    "3. Draw the rectangle which is the matched region on the original frame (I don't want to change the original frame, so I use the `copy()` method to create a new frame to draw the rectangle)\n",
    "4. Display the frames with the rectangle."
   ]
  },
  {
   "cell_type": "code",
   "execution_count": 578,
   "metadata": {},
   "outputs": [],
   "source": [
    "# Create a template from the first frame\n",
    "x, y, w, h = load_firsttrack(seq_folder_path + '/firsttrack.txt')\n",
    "template = images[0][y:y+h, x:x+w]\n",
    "\n",
    "# Select matching method based on the seq_folder_path\n",
    "if seq_folder_path == 'data/seq_1':\n",
    "    matching_method = cv2.TM_CCOEFF_NORMED # TM_CCOEFF_NORMED > TM_CCORR_NORMED > TM_CCOEFF\n",
    "elif seq_folder_path == 'data/seq_2':\n",
    "    matching_method = cv2.TM_SQDIFF_NORMED # TM_SQDIFF> TM_CCOEFF > TM_CCOEFF_NORMED > TM_SQDIFF_NORMED > TM_CCORR_NORMED\n",
    "elif seq_folder_path == 'data/seq_3':\n",
    "    matching_method = cv2.TM_CCORR # \n",
    "elif seq_folder_path == 'data/seq_4':\n",
    "    matching_method = cv2.TM_CCOEFF_NORMED\n",
    "elif seq_folder_path == 'data/seq_5':\n",
    "    matching_method = cv2.TM_CCOEFF\n",
    "else:\n",
    "    matching_method = cv2.TM_CCOEFF_NORMED  # Default method"
   ]
  },
  {
   "cell_type": "code",
   "execution_count": 583,
   "metadata": {},
   "outputs": [
    {
     "ename": "KeyboardInterrupt",
     "evalue": "",
     "output_type": "error",
     "traceback": [
      "\u001b[0;31m---------------------------------------------------------------------------\u001b[0m",
      "\u001b[0;31mKeyboardInterrupt\u001b[0m                         Traceback (most recent call last)",
      "Cell \u001b[0;32mIn[583], line 2\u001b[0m\n\u001b[1;32m      1\u001b[0m \u001b[38;5;66;03m# Initialize the list to store the detections\u001b[39;00m\n\u001b[0;32m----> 2\u001b[0m detections \u001b[38;5;241m=\u001b[39m []\n\u001b[1;32m      4\u001b[0m \u001b[38;5;28;01mfor\u001b[39;00m img \u001b[38;5;129;01min\u001b[39;00m images:\n\u001b[1;32m      5\u001b[0m     \n\u001b[1;32m      6\u001b[0m     \u001b[38;5;66;03m# Template matching\u001b[39;00m\n\u001b[1;32m      7\u001b[0m     res \u001b[38;5;241m=\u001b[39m cv2\u001b[38;5;241m.\u001b[39mmatchTemplate(img, template, matching_method)\n",
      "Cell \u001b[0;32mIn[583], line 2\u001b[0m\n\u001b[1;32m      1\u001b[0m \u001b[38;5;66;03m# Initialize the list to store the detections\u001b[39;00m\n\u001b[0;32m----> 2\u001b[0m detections \u001b[38;5;241m=\u001b[39m []\n\u001b[1;32m      4\u001b[0m \u001b[38;5;28;01mfor\u001b[39;00m img \u001b[38;5;129;01min\u001b[39;00m images:\n\u001b[1;32m      5\u001b[0m     \n\u001b[1;32m      6\u001b[0m     \u001b[38;5;66;03m# Template matching\u001b[39;00m\n\u001b[1;32m      7\u001b[0m     res \u001b[38;5;241m=\u001b[39m cv2\u001b[38;5;241m.\u001b[39mmatchTemplate(img, template, matching_method)\n",
      "File \u001b[0;32m_pydevd_bundle/pydevd_cython.pyx:1457\u001b[0m, in \u001b[0;36m_pydevd_bundle.pydevd_cython.SafeCallWrapper.__call__\u001b[0;34m()\u001b[0m\n",
      "File \u001b[0;32m_pydevd_bundle/pydevd_cython.pyx:701\u001b[0m, in \u001b[0;36m_pydevd_bundle.pydevd_cython.PyDBFrame.trace_dispatch\u001b[0;34m()\u001b[0m\n",
      "File \u001b[0;32m_pydevd_bundle/pydevd_cython.pyx:1152\u001b[0m, in \u001b[0;36m_pydevd_bundle.pydevd_cython.PyDBFrame.trace_dispatch\u001b[0;34m()\u001b[0m\n",
      "File \u001b[0;32m_pydevd_bundle/pydevd_cython.pyx:1135\u001b[0m, in \u001b[0;36m_pydevd_bundle.pydevd_cython.PyDBFrame.trace_dispatch\u001b[0;34m()\u001b[0m\n",
      "File \u001b[0;32m_pydevd_bundle/pydevd_cython.pyx:312\u001b[0m, in \u001b[0;36m_pydevd_bundle.pydevd_cython.PyDBFrame.do_wait_suspend\u001b[0;34m()\u001b[0m\n",
      "File \u001b[0;32m~/miniconda3/envs/ME5413-HW1/lib/python3.9/site-packages/debugpy/_vendored/pydevd/pydevd.py:2070\u001b[0m, in \u001b[0;36mPyDB.do_wait_suspend\u001b[0;34m(self, thread, frame, event, arg, exception_type)\u001b[0m\n\u001b[1;32m   2067\u001b[0m             from_this_thread\u001b[38;5;241m.\u001b[39mappend(frame_custom_thread_id)\n\u001b[1;32m   2069\u001b[0m     \u001b[38;5;28;01mwith\u001b[39;00m \u001b[38;5;28mself\u001b[39m\u001b[38;5;241m.\u001b[39m_threads_suspended_single_notification\u001b[38;5;241m.\u001b[39mnotify_thread_suspended(thread_id, thread, stop_reason):\n\u001b[0;32m-> 2070\u001b[0m         keep_suspended \u001b[38;5;241m=\u001b[39m \u001b[38;5;28;43mself\u001b[39;49m\u001b[38;5;241;43m.\u001b[39;49m\u001b[43m_do_wait_suspend\u001b[49m\u001b[43m(\u001b[49m\u001b[43mthread\u001b[49m\u001b[43m,\u001b[49m\u001b[43m \u001b[49m\u001b[43mframe\u001b[49m\u001b[43m,\u001b[49m\u001b[43m \u001b[49m\u001b[43mevent\u001b[49m\u001b[43m,\u001b[49m\u001b[43m \u001b[49m\u001b[43marg\u001b[49m\u001b[43m,\u001b[49m\u001b[43m \u001b[49m\u001b[43msuspend_type\u001b[49m\u001b[43m,\u001b[49m\u001b[43m \u001b[49m\u001b[43mfrom_this_thread\u001b[49m\u001b[43m,\u001b[49m\u001b[43m \u001b[49m\u001b[43mframes_tracker\u001b[49m\u001b[43m)\u001b[49m\n\u001b[1;32m   2072\u001b[0m frames_list \u001b[38;5;241m=\u001b[39m \u001b[38;5;28;01mNone\u001b[39;00m\n\u001b[1;32m   2074\u001b[0m \u001b[38;5;28;01mif\u001b[39;00m keep_suspended:\n\u001b[1;32m   2075\u001b[0m     \u001b[38;5;66;03m# This means that we should pause again after a set next statement.\u001b[39;00m\n",
      "File \u001b[0;32m~/miniconda3/envs/ME5413-HW1/lib/python3.9/site-packages/debugpy/_vendored/pydevd/pydevd.py:2106\u001b[0m, in \u001b[0;36mPyDB._do_wait_suspend\u001b[0;34m(self, thread, frame, event, arg, suspend_type, from_this_thread, frames_tracker)\u001b[0m\n\u001b[1;32m   2103\u001b[0m         \u001b[38;5;28mself\u001b[39m\u001b[38;5;241m.\u001b[39m_call_input_hook()\n\u001b[1;32m   2105\u001b[0m     \u001b[38;5;28mself\u001b[39m\u001b[38;5;241m.\u001b[39mprocess_internal_commands()\n\u001b[0;32m-> 2106\u001b[0m     \u001b[43mtime\u001b[49m\u001b[38;5;241;43m.\u001b[39;49m\u001b[43msleep\u001b[49m\u001b[43m(\u001b[49m\u001b[38;5;241;43m0.01\u001b[39;49m\u001b[43m)\u001b[49m\n\u001b[1;32m   2108\u001b[0m \u001b[38;5;28mself\u001b[39m\u001b[38;5;241m.\u001b[39mcancel_async_evaluation(get_current_thread_id(thread), \u001b[38;5;28mstr\u001b[39m(\u001b[38;5;28mid\u001b[39m(frame)))\n\u001b[1;32m   2110\u001b[0m \u001b[38;5;66;03m# process any stepping instructions\u001b[39;00m\n",
      "\u001b[0;31mKeyboardInterrupt\u001b[0m: "
     ]
    }
   ],
   "source": [
    "# Initialize the list to store the detections\n",
    "detections = []\n",
    "\n",
    "for img in images:\n",
    "    \n",
    "    # Template matching\n",
    "    res = cv2.matchTemplate(img, template, matching_method)\n",
    "    min_val, max_val, min_loc, max_loc = cv2.minMaxLoc(res)\n",
    "\n",
    "    # copy the image\n",
    "    img_copy = img.copy()\n",
    "\n",
    "    # Draw rectangle around found location\n",
    "    top_left = max_loc\n",
    "    bottom_right = (top_left[0] + w, top_left[1] + h)\n",
    "    cv2.rectangle(img_copy, top_left, bottom_right, 255, 2)\n",
    "\n",
    "    # Store the detections\n",
    "    detections.append((top_left[0], top_left[1], w, h))\n",
    "\n",
    "    # cv2.imshow('image', img_copy)\n",
    "    # if cv2.waitKey(50) & 0xFF == ord('q'):\n",
    "    #     break\n",
    "\n",
    "cv2.destroyAllWindows()\n",
    "\n",
    "# After processing all frames, save the detections to a text file\n",
    "save_detections(detections,  seq_folder_path + '/detections_tm.txt')"
   ]
  },
  {
   "cell_type": "markdown",
   "metadata": {},
   "source": [
    "#### Using Kalman Filter\n",
    "\n",
    "**Kalman Filter**\n",
    "\n",
    "Kalman Filter is a recursive algorithm that estimates the state of a process. It is a linear quadratic estimator that estimates the state of a linear dynamic system from a series of noisy measurements. The Kalman Filter is initialized with the following parameters:\n",
    "+ State transition matrix, A\n",
    "+ Control matrix, B\n",
    "+ Measurement matrix, H\n",
    "+ Process noise covariance, Q\n",
    "+ Measurement noise covariance, R\n",
    "+ Error covariance, P\n",
    "+ Initial state, x\n",
    "\n",
    "**Initilize the Kalman Filter**\n"
   ]
  },
  {
   "cell_type": "code",
   "execution_count": 580,
   "metadata": {},
   "outputs": [],
   "source": [
    "# Define the Kalman filter\n",
    "kf = cv2.KalmanFilter(4, 2)\n",
    "\n",
    "# Initial state (x, y, dx, dy) representing the position and velocity of the object\n",
    "kf.statePre = np.array([x, y, 0, 0], np.float32)\n",
    "\n",
    "# Initial state estimation error covariance\n",
    "kf.processNoiseCov = np.array([[1, 0, 0, 0],\n",
    "                               [0, 1, 0, 0],\n",
    "                               [0, 0, 1, 0],\n",
    "                               [0, 0, 0, 1]], np.float32)\n",
    "\n",
    "# Transition matrix\n",
    "kf.transitionMatrix = np.array([[1, 0, 1, 0],\n",
    "                                [0, 1, 0, 1],\n",
    "                                [0, 0, 1, 0],\n",
    "                                [0, 0, 0, 1]], np.float32)\n",
    "\n",
    "# Process noise covariance\n",
    "kf.processNoiseCov = np.array([[1, 0, 0, 0],\n",
    "                               [0, 1, 0, 0],\n",
    "                               [0, 0, 1, 0],\n",
    "                               [0, 0, 0, 1]], np.float32) * 1e-4\n",
    "\n",
    "# Measurement matrix\n",
    "kf.measurementMatrix = np.array([[1, 0, 0, 0],\n",
    "                                [0, 1, 0, 0]], np.float32)"
   ]
  },
  {
   "cell_type": "markdown",
   "metadata": {},
   "source": [
    "+ Tracking with Kalman Filter (Measured by Template Matching Method)"
   ]
  },
  {
   "cell_type": "code",
   "execution_count": 581,
   "metadata": {},
   "outputs": [],
   "source": [
    "# Initialize the list to store the detections\n",
    "detections = []\n",
    "\n",
    "for img in images:\n",
    "    # Template matching\n",
    "    res = cv2.matchTemplate(img, template, matching_method)\n",
    "    min_val, max_val, min_loc, max_loc = cv2.minMaxLoc(res)\n",
    "\n",
    "    # Measurement from the template matching\n",
    "    measurement = np.array([max_loc[0], max_loc[1]], np.float32)\n",
    "\n",
    "    # Kalman correction\n",
    "    kf.correct(measurement)\n",
    "\n",
    "    # Predict the next state\n",
    "    prediction = kf.predict()\n",
    "\n",
    "    # Draw rectangle around the predicted location\n",
    "    top_left = (int(prediction[0]), int(prediction[1]))\n",
    "    bottom_right = (int(prediction[0] + w), int(prediction[1] + h))\n",
    "    img_copy = img.copy()\n",
    "    cv2.rectangle(img_copy, top_left, bottom_right, 255, 2)\n",
    "\n",
    "    # Store the detections\n",
    "    detections.append((top_left[0], top_left[1], w, h))\n",
    "\n",
    "    # cv2.imshow('image', img_copy)\n",
    "    # if cv2.waitKey(50) & 0xFF == ord('q'):\n",
    "    #     break\n",
    "\n",
    "cv2.destroyAllWindows()\n",
    "\n",
    "# After processing all frames, save the detections to a text file\n",
    "save_detections(detections,  seq_folder_path + '/detections_kf.txt')"
   ]
  },
  {
   "cell_type": "markdown",
   "metadata": {},
   "source": [
    "**Evaluate the performance of the Single object tracking algorithm.**\n",
    "\n",
    "Evaluate the performance of template matching and Kalman filter. The evaluation should include the following:\n",
    "+ The accuracy of the tracking algorithm\n",
    "+ The robustness of the tracking algorithm\n",
    "+ The efficiency of the tracking algorithm\n"
   ]
  },
  {
   "cell_type": "code",
   "execution_count": 582,
   "metadata": {},
   "outputs": [],
   "source": [
    "# Load the ground truth and the detections\n",
    "groundtruth = load_tracks(seq_folder_path + '/groundtruth.txt')\n",
    "detections_tm = load_tracks(seq_folder_path + '/detections_tm.txt')\n",
    "detections_kf = load_tracks(seq_folder_path + '/detections_kf.txt')\n",
    "\n",
    "# Return the average IoU\n",
    "average_iou_tm = evaluate_performance(detections_tm, groundtruth)\n",
    "average_iou_kf = evaluate_performance(detections_kf, groundtruth)"
   ]
  },
  {
   "cell_type": "markdown",
   "metadata": {},
   "source": [
    "\n",
    "**Visualise the results as well**.\n"
   ]
  },
  {
   "cell_type": "code",
   "execution_count": null,
   "metadata": {},
   "outputs": [],
   "source": []
  },
  {
   "cell_type": "markdown",
   "metadata": {},
   "source": [
    "Propose Improvements to the work if possible:"
   ]
  },
  {
   "cell_type": "markdown",
   "metadata": {},
   "source": []
  }
 ],
 "metadata": {
  "kernelspec": {
   "display_name": "python3.9",
   "language": "python",
   "name": "python3"
  },
  "language_info": {
   "codemirror_mode": {
    "name": "ipython",
    "version": 3
   },
   "file_extension": ".py",
   "mimetype": "text/x-python",
   "name": "python",
   "nbconvert_exporter": "python",
   "pygments_lexer": "ipython3",
   "version": "3.9.18"
  }
 },
 "nbformat": 4,
 "nbformat_minor": 2
}
