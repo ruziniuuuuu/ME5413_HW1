{
 "cells": [
  {
   "cell_type": "markdown",
   "metadata": {},
   "source": [
    "# ME5413: Autonomous Mobile Robot  \n",
    "\n",
    "### Homework 1: Perception  \n",
    "Due date: 22 February 2024 (Thurs) - 2359 "
   ]
  },
  {
   "cell_type": "markdown",
   "metadata": {},
   "source": [
    "### Task 1.1 Single-Object Tracking \n",
    "\n",
    "#### Preparation\n",
    "\n",
    "**Import the necessary packages**"
   ]
  },
  {
   "cell_type": "code",
   "execution_count": 22,
   "metadata": {},
   "outputs": [],
   "source": [
    "import cv2\n",
    "import numpy as np\n",
    "import glob\n",
    "from utils.load import *\n",
    "from utils.save import save_detections\n",
    "from utils.evaluate import *"
   ]
  },
  {
   "cell_type": "markdown",
   "metadata": {},
   "source": [
    "**Load (and Test) the original frames**\n",
    "\n",
    "The original frames are stored in the folder `./data`. I define the variable `images` to store the original frames, and then use `cv2.imshow()` to display the original videos."
   ]
  },
  {
   "cell_type": "code",
   "execution_count": 23,
   "metadata": {},
   "outputs": [],
   "source": [
    "# parameters to be set\n",
    "seq_index = \"3\"\n",
    "is_limit_region = True\n",
    "is_scale = True\n",
    "\n",
    "# load the frames\n",
    "seq_folder_path = 'data/seq_' + seq_index\n",
    "image_files = glob.glob(seq_folder_path + '/img' + '/*.jpg')\n",
    "image_files.sort()\n",
    "\n",
    "images = []\n",
    "for image_files in image_files:\n",
    "    image = cv2.imread(image_files)\n",
    "    images.append(image)\n",
    "\n",
    "# # test the display\n",
    "# for img in images:\n",
    "#     cv2.imshow('image', img)\n",
    "#     if cv2.waitKey(50) & 0xFF == ord('q'):\n",
    "#         break\n",
    "\n",
    "cv2.destroyAllWindows()"
   ]
  },
  {
   "cell_type": "markdown",
   "metadata": {},
   "source": [
    "#### Using Kalman Filter based on Template Matching\n",
    "\n",
    "**Initialize the template**"
   ]
  },
  {
   "cell_type": "code",
   "execution_count": 24,
   "metadata": {},
   "outputs": [],
   "source": [
    "# Create a template from the first frame\n",
    "x, y, w, h = load_firsttrack(seq_folder_path + '/firsttrack.txt')\n",
    "template = images[0][y:y+h, x:x+w]\n",
    "\n",
    "# Define a list of scales for resizing the template\n",
    "wh_scales = []\n",
    "\n",
    "# Define the extended region of template matching\n",
    "limit_region = [100, 100, 100, 100] # [left, top, right, bottom]\n",
    "\n",
    "# Definie the extended region of template matching\n",
    "# Select matching method based on the seq_folder_path\n",
    "if seq_folder_path == 'data/seq_1':\n",
    "    matching_method = cv2.TM_CCOEFF_NORMED # TM_CCOEFF_NORMED > TM_CCORR_NORMED > TM_CCOEFF\n",
    "    wh_scales = [[1.0, 1.0], [0.9, 1.0], [0.8, 1.0]]\n",
    "    limit_region = [1, 5, 8, 1]\n",
    "elif seq_folder_path == 'data/seq_2':\n",
    "    matching_method = cv2.TM_SQDIFF_NORMED # TM_SQDIFF> TM_CCOEFF > TM_CCOEFF_NORMED > TM_SQDIFF_NORMED > TM_CCORR_NORMED\n",
    "    wh_scales = [[1.0, 1.0], [1.0, 0.9], [0.9, 1.0]]\n",
    "    limit_region = [50, 1, 10, 1]\n",
    "elif seq_folder_path == 'data/seq_3':\n",
    "    matching_method = cv2.TM_CCORR_NORMED\n",
    "    wh_scales = [[1.0, 1.0]]\n",
    "    limit_region = [5, 1, 8, 1]\n",
    "elif seq_folder_path == 'data/seq_4':\n",
    "    matching_method = cv2.TM_CCOEFF_NORMED\n",
    "    wh_scales = [[1.0, 1.0]]\n",
    "    limit_region = [1, 1, 50, 5]\n",
    "elif seq_folder_path == 'data/seq_5':\n",
    "    matching_method = cv2.TM_CCOEFF\n",
    "    wh_scales = [[1.0, 1.0]]\n",
    "    limit_region = [10, 10, 10, 10]\n",
    "else:\n",
    "    matching_method = cv2.TM_CCOEFF_NORMED  # Default method\n",
    "    wh_scales = [[1.0, 1.0]]\n",
    "    limit_region = [100, 100, 100, 100]\n",
    "\n",
    "if not is_limit_region:\n",
    "    limit_region = [1000, 1000, 1000, 1000]\n",
    "\n",
    "if not is_scale:\n",
    "    wh_scales = [[1.0, 1.0]]"
   ]
  },
  {
   "cell_type": "markdown",
   "metadata": {},
   "source": [
    "**Initialize the Kalman Filter**"
   ]
  },
  {
   "cell_type": "code",
   "execution_count": 25,
   "metadata": {},
   "outputs": [],
   "source": [
    "# Define the Kalman filter\n",
    "kf = cv2.KalmanFilter(4, 2)\n",
    "\n",
    "# Initial state (x, y, v_x, v_y) representing the center of the bounding box and the velocity\n",
    "kf.statePre = np.array([x + w/2, y + h/2, 0, 0], dtype=np.float32)\n",
    "\n",
    "# Transition matrix\n",
    "kf.transitionMatrix = np.array([[1, 0, 1, 0],\n",
    "                                [0, 1, 0, 1],\n",
    "                                [0, 0, 1, 0],\n",
    "                                [0, 0, 0, 1]], dtype=np.float32)\n",
    "\n",
    "# Process noise covariance matrix\n",
    "kf.processNoiseCov = np.array([[1, 0, 0, 0],\n",
    "                               [0, 1, 0, 0],\n",
    "                               [0, 0, 1, 0],\n",
    "                               [0, 0, 0, 1]], dtype=np.float32) * 0.03\n",
    "\n",
    "# Measurement matrix\n",
    "kf.measurementMatrix = np.array([[1, 0, 0, 0],\n",
    "                                 [0, 1, 0, 0]], dtype=np.float32)\n",
    "\n",
    "# Measurement noise covariance matrix\n",
    "kf.measurementNoiseCov = np.array([[1, 0],\n",
    "                                   [0, 1]], dtype=np.float32) * 0.1"
   ]
  },
  {
   "cell_type": "code",
   "execution_count": 26,
   "metadata": {},
   "outputs": [],
   "source": [
    "# Initialize the list to store the detections\n",
    "detections = []\n",
    "\n",
    "# Store the previous location\n",
    "prev_loc = (x, y)\n",
    "\n",
    "for img in images:\n",
    "    # Initialize variables to store the best match\n",
    "    best_match = None \n",
    "    best_val = -np.inf\n",
    "    best_scale = (None, None)\n",
    "\n",
    "    # Define the region for template matching\n",
    "    x_region = max(0, prev_loc[0] - limit_region[0])\n",
    "    y_region = max(0, prev_loc[1] - limit_region[1])\n",
    "    w_region = min(img.shape[1] - 1, prev_loc[0] + w + limit_region[2]) - x_region\n",
    "    h_region = min(img.shape[0] - 1, prev_loc[1] + h + limit_region[3]) - y_region\n",
    "\n",
    "    for width_scale, height_scale in wh_scales:\n",
    "        # Resize the template\n",
    "        resized_template = cv2.resize(template, (0,0), fx=width_scale, fy=height_scale)\n",
    "\n",
    "        # Template matching\n",
    "        # res = cv2.matchTemplate(img, resized_template, matching_method)\n",
    "        res = cv2.matchTemplate(img[y_region:y_region+h_region, x_region:x_region+w_region], resized_template, matching_method)\n",
    "        _, max_val, _, max_loc = cv2.minMaxLoc(res)\n",
    "        max_loc = (max_loc[0] + x_region, max_loc[1] + y_region)\n",
    "\n",
    "        # If this match is better than the previous best, update the best match\n",
    "        if max_val > best_val:\n",
    "            best_val = max_val\n",
    "            best_match = max_loc\n",
    "            best_scale = (width_scale, height_scale)\n",
    "\n",
    "    # copy the image\n",
    "    img_copy = img.copy()\n",
    "\n",
    "    # Kalman filter prediction\n",
    "    if best_match is not None:\n",
    "        x, y = best_match\n",
    "        w = int(template.shape[1] * best_scale[0])\n",
    "        h = int(template.shape[0] * best_scale[1])\n",
    "\n",
    "        # Update the Kalman filter\n",
    "        kf.correct(np.array([x + w/2, y + h/2], dtype=np.float32))\n",
    "\n",
    "        # Predict the next location\n",
    "        prediction = kf.predict()\n",
    "        x, y = prediction[0] - w/2, prediction[1] - h/2\n",
    "\n",
    "        # Draw the bounding box\n",
    "        cv2.rectangle(img_copy, (int(x), int(y)), (int(w*best_scale[0]), int(h*best_scale[1])), (0, 255, 0), 2)\n",
    "\n",
    "        # Store the detection\n",
    "        detections.append([int(x), int(y), int(w), int(h)])\n",
    "    else:\n",
    "        # If no match is found, store the previous location\n",
    "        detections.append([int(prev_loc[0]), int(prev_loc[1]), int(w), int(h)])\n",
    "\n",
    "cv2.destroyAllWindows()\n",
    "\n",
    "# After processing all frames, save the detections to a text file\n",
    "save_detections(detections,  seq_folder_path + '/detections_kf_tmbased.txt')"
   ]
  },
  {
   "cell_type": "markdown",
   "metadata": {},
   "source": [
    "**Evaluate the performance of the Single object tracking algorithm.**\n",
    "\n",
    "Evaluate the performance of template matching and Kalman filter. The evaluation should include the following:\n",
    "+ The accuracy of the tracking algorithm\n",
    "+ The robustness of the tracking algorithm\n",
    "+ The efficiency of the tracking algorithm\n"
   ]
  },
  {
   "cell_type": "code",
   "execution_count": 27,
   "metadata": {},
   "outputs": [],
   "source": [
    "# Load the ground truth and the detections\n",
    "groundtruth = load_tracks(seq_folder_path + '/groundtruth.txt')\n",
    "detections_kf = load_tracks(seq_folder_path + '/detections_kf_tmbased.txt')\n",
    "\n",
    "# Return the average IoU\n",
    "average_iou_kf = evaluate_average_iou(detections_kf, groundtruth)"
   ]
  },
  {
   "cell_type": "markdown",
   "metadata": {},
   "source": [
    "\n",
    "**Visualise the results as well**.\n"
   ]
  },
  {
   "cell_type": "code",
   "execution_count": 28,
   "metadata": {},
   "outputs": [
    {
     "data": {
      "image/png": "[encoded data removed]",
      "text/plain": [
       "<Figure size 500x500 with 1 Axes>"
      ]
     },
     "metadata": {},
     "output_type": "display_data"
    }
   ],
   "source": [
    "# visualize_iou(detections_tm, groundtruth, \"IOU Comparison Across Frames in Seq \" + seq_index)\n",
    "visualize_distance(detections_kf, groundtruth, \"Distance Comparison Across Frames in Seq \" + seq_index)"
   ]
  },
  {
   "cell_type": "markdown",
   "metadata": {},
   "source": [
    "Propose Improvements to the work if possible:"
   ]
  },
  {
   "cell_type": "markdown",
   "metadata": {},
   "source": []
  }
 ],
 "metadata": {
  "kernelspec": {
   "display_name": "python3.9",
   "language": "python",
   "name": "python3"
  },
  "language_info": {
   "codemirror_mode": {
    "name": "ipython",
    "version": 3
   },
   "file_extension": ".py",
   "mimetype": "text/x-python",
   "name": "python",
   "nbconvert_exporter": "python",
   "pygments_lexer": "ipython3",
   "version": "3.9.18"
  }
 },
 "nbformat": 4,
 "nbformat_minor": 2
}
